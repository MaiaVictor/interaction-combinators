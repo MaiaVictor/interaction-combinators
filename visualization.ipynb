{
 "cells": [
  {
   "cell_type": "code",
   "execution_count": 1,
   "metadata": {},
   "outputs": [],
   "source": [
    "import networkx as nx\n",
    "import matplotlib.pyplot as plt\n",
    "from matplotlib.widgets import Slider\n",
    "from networkx.drawing.nx_agraph import graphviz_layout\n",
    "import ipywidgets as widgets"
   ]
  },
  {
   "cell_type": "code",
   "execution_count": 12,
   "metadata": {},
   "outputs": [],
   "source": [
    "from nodes import Nodes"
   ]
  },
  {
   "cell_type": "code",
   "execution_count": 13,
   "metadata": {},
   "outputs": [],
   "source": [
    "nodess = Nodes()"
   ]
  },
  {
   "cell_type": "code",
   "execution_count": 18,
   "metadata": {},
   "outputs": [
    {
     "data": {
      "application/vnd.jupyter.widget-view+json": {
       "model_id": "86b44f9caf9f412ab359ac4229b11489",
       "version_major": 2,
       "version_minor": 0
      },
      "text/plain": [
       "interactive(children=(IntSlider(value=89, description='iteration', max=179), Output()), _dom_classes=('widget-…"
      ]
     },
     "metadata": {},
     "output_type": "display_data"
    }
   ],
   "source": [
    "_, nodes = nodess[0]\n",
    "\n",
    "ports = [(node[0], t >> 2) for node in nodes.values() for t in node[1:4]]\n",
    "\n",
    "G = nx.DiGraph()\n",
    "G.add_edges_from(ports)\n",
    "pos = graphviz_layout(G)\n",
    "\n",
    "@widgets.interact(iteration=(0, len(nodess)-1,1))\n",
    "def draw(iteration):\n",
    "    gonxt, nodes = nodess[iteration]\n",
    "\n",
    "    ports = [(node[0], t >> 2) for node in nodes.values() for t in node[1:4]]\n",
    "    types = [ node[4]    >> 2  for node in nodes.values()                   ]\n",
    "\n",
    "    plt.figure(figsize=(10,10))\n",
    "    \n",
    "    G = nx.DiGraph()\n",
    "    G.add_edges_from(ports)\n",
    "#     pos = graphviz_layout(G) #comment this line if you don't want to create new layout each iteration\n",
    "    \n",
    "    nx.draw_networkx_nodes(G, pos, cmap=plt.get_cmap('jet'), alpha=0.0, node_size = 500)\n",
    "    nx.draw_networkx_nodes(G, pos, nodelist=[gonxt >> 2], alpha=1, node_size = 500)\n",
    "    nx.draw_networkx_labels(G, pos)\n",
    "    nx.draw_networkx_edges(G, pos, edgelist=ports[0:-1:3], alpha=.5, edge_color='red', width=4)\n",
    "    nx.draw_networkx_edges(G, pos, edgelist=ports[1:-1:3], alpha=.5, edge_color='blue', width=4)\n",
    "    nx.draw_networkx_edges(G, pos, edgelist=ports[2:-1:3], alpha=.5, edge_color='grey', width=3)\n",
    "    plt.show()"
   ]
  },
  {
   "cell_type": "code",
   "execution_count": 3,
   "metadata": {},
   "outputs": [
    {
     "name": "stdout",
     "output_type": "stream",
     "text": [
      "Help on function graphviz_layout in module networkx.drawing.nx_agraph:\n",
      "\n",
      "graphviz_layout(G, prog='neato', root=None, args='')\n",
      "    Create node positions for G using Graphviz.\n",
      "    \n",
      "    Parameters\n",
      "    ----------\n",
      "    G : NetworkX graph\n",
      "      A graph created with NetworkX\n",
      "    prog : string\n",
      "      Name of Graphviz layout program\n",
      "    root : string, optional\n",
      "      Root node for twopi layout\n",
      "    args : string, optional\n",
      "      Extra arguments to Graphviz layout program\n",
      "    \n",
      "    Returns : dictionary\n",
      "      Dictionary of x, y, positions keyed by node.\n",
      "    \n",
      "    Examples\n",
      "    --------\n",
      "    >>> G = nx.petersen_graph()\n",
      "    >>> pos = nx.nx_agraph.graphviz_layout(G)\n",
      "    >>> pos = nx.nx_agraph.graphviz_layout(G, prog='dot')\n",
      "    \n",
      "    Notes\n",
      "    -----\n",
      "    This is a wrapper for pygraphviz_layout.\n",
      "\n"
     ]
    }
   ],
   "source": [
    "help(graphviz_layout)"
   ]
  },
  {
   "cell_type": "code",
   "execution_count": null,
   "metadata": {},
   "outputs": [],
   "source": [
    "\n",
    "\n",
    "\n",
    "\n",
    "\n",
    "\n",
    "\n",
    "\n",
    "\n",
    "\n",
    "\n",
    "\n",
    "\n",
    "\n",
    "\n",
    "\n",
    "\n",
    "\n",
    "\n",
    "\n",
    "\n",
    "\n",
    "\n",
    "\n",
    "\n",
    "\n",
    "\n",
    "\n",
    "\n",
    "\n",
    "\n",
    "\n",
    "\n",
    "\n",
    "\n",
    "\n",
    "\n",
    "\n",
    "\n"
   ]
  },
  {
   "cell_type": "markdown",
   "metadata": {},
   "source": [
    "\n",
    "\n",
    "\n",
    "\n",
    "\n",
    "\n",
    "\n",
    "\n",
    "\n",
    "\n",
    "\n",
    "\n",
    "\n",
    "\n",
    "\n",
    "\n",
    "\n",
    "\n",
    "\n",
    "\n",
    "\n",
    "\n",
    "\n",
    "\n",
    "\n",
    "\n",
    "\n",
    "\n",
    "\n",
    "\n",
    "\n",
    "\n",
    "\n",
    "\n",
    "\n",
    "\n"
   ]
  }
 ],
 "metadata": {
  "kernelspec": {
   "display_name": "Python 3",
   "language": "python",
   "name": "python3"
  },
  "language_info": {
   "codemirror_mode": {
    "name": "ipython",
    "version": 3
   },
   "file_extension": ".py",
   "mimetype": "text/x-python",
   "name": "python",
   "nbconvert_exporter": "python",
   "pygments_lexer": "ipython3",
   "version": "3.6.5"
  }
 },
 "nbformat": 4,
 "nbformat_minor": 2
}
